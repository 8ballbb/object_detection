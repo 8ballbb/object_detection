{
 "cells": [
  {
   "cell_type": "markdown",
   "id": "219db948-552e-460d-8dfa-10602810d1d4",
   "metadata": {},
   "source": [
    "# YOLO Training Notebook\n",
    "\n",
    "## Setup Instance\n",
    "\n",
    "The first step after starting the `training.ipynb` notebook is to run the `setup.sh` script in the first cell. Note: `setup.sh` must have the executable permission set i.e., `chmod +x setup.sh`.\n",
    "\n",
    "This script sets up the instance so that it can use Darknet to train a model.\n",
    "\n",
    "- Clone Darknet Repo\n",
    "- Edit Darknet Makefile\n",
    "- Build Darknet\n",
    "- Download YOLOv4-tiny weights\n",
    "- Copy YOLOv4-tiny config"
   ]
  },
  {
   "cell_type": "code",
   "execution_count": null,
   "id": "9bb005ac-e64f-48bd-8b20-5b2cf7cf99f5",
   "metadata": {},
   "outputs": [],
   "source": [
    "!./setup.sh"
   ]
  },
  {
   "cell_type": "markdown",
   "id": "754cee2f-04cd-4d5a-9985-4b9c7c18e8d5",
   "metadata": {},
   "source": [
    "## Setup Training"
   ]
  },
  {
   "cell_type": "code",
   "execution_count": null,
   "id": "6bbe1d98-0d91-4fc6-b8ea-e176d86ede64",
   "metadata": {},
   "outputs": [],
   "source": [
    "from convert_model.convert import convert_darknet_to_tf\n",
    "from utils.config import update_config\n",
    "from utils.data_split import yolo_obj_detection_setup\n",
    "from glob import glob\n",
    "import os\n",
    "import shutil"
   ]
  },
  {
   "cell_type": "markdown",
   "id": "01b92187-6872-4b4c-bc9b-ca673e19e968",
   "metadata": {},
   "source": [
    "* Set paths"
   ]
  },
  {
   "cell_type": "code",
   "execution_count": null,
   "id": "b1ad312f-5cde-49b7-9fcb-14eaf9422cd7",
   "metadata": {},
   "outputs": [],
   "source": [
    "base_folder = f\"{os.getcwd()}/\"\n",
    "labels = [\"car\", \"truck\", \"bus\"]  # change labels to suit annotated data\n",
    "cfg_file = f\"{base_folder}model_files/yolov4-tiny.cfg\"\n",
    "weights_file = f\"{base_folder}model_files/yolov4-tiny.conv.29\"\n",
    "obj_data = f\"{base_folder}model_files/obj.data\"\n",
    "obj_test_data = f\"{base_folder}model_files/obj_test.data\""
   ]
  },
  {
   "cell_type": "markdown",
   "id": "37c3906d-b07c-4154-abdd-c5cfbe87d968",
   "metadata": {},
   "source": [
    "* Split data"
   ]
  },
  {
   "cell_type": "code",
   "execution_count": null,
   "id": "3b174ace-fc28-40f9-a0ad-1753e8f9a4b4",
   "metadata": {},
   "outputs": [],
   "source": [
    "yolo_obj_detection_setup(folder=base_folder, labels=labels, train_pct=.6, test_pct=.1, val_pct=.3)"
   ]
  },
  {
   "cell_type": "markdown",
   "id": "9ac79213-3c7f-41fb-8dda-f5aad1c12caa",
   "metadata": {},
   "source": [
    "* Update config"
   ]
  },
  {
   "cell_type": "code",
   "execution_count": null,
   "id": "5e6e0b11-f94f-4dc6-8002-5f273bec7dc8",
   "metadata": {},
   "outputs": [],
   "source": [
    "update_config(cfg_file, labels=labels, input_size=416, subdivisions=4)"
   ]
  },
  {
   "cell_type": "markdown",
   "id": "aed69d20-3de7-4508-bd81-0be44c70fc41",
   "metadata": {},
   "source": [
    "## Train Model"
   ]
  },
  {
   "cell_type": "code",
   "execution_count": null,
   "id": "feac3a7e-4227-4e4b-a086-c068115e0e99",
   "metadata": {},
   "outputs": [],
   "source": [
    "%cd $base_folder\"darknet/\""
   ]
  },
  {
   "cell_type": "code",
   "execution_count": null,
   "id": "d06c58fc-bbec-4e65-9551-2c65e93993bf",
   "metadata": {},
   "outputs": [],
   "source": [
    "%%capture\n",
    "!./darknet detector train $obj_data $cfg_file $weights_file -dont_show -ext_output -map > $base_folder\"model_files/log_training.txt\""
   ]
  },
  {
   "cell_type": "code",
   "execution_count": null,
   "id": "83be45c3-f11a-4f7a-8edf-854765931334",
   "metadata": {},
   "outputs": [],
   "source": [
    "for weights in glob(f\"{base_folder}darknet/backup/*.weights\"):\n",
    "    fname = weights.split(\"/\")[-1]\n",
    "    shutil.copy(weights, f\"{base_folder}model_files/{fname}\")"
   ]
  },
  {
   "cell_type": "markdown",
   "id": "fe58dd43-1ed8-4bc9-91d4-77bfde824fc2",
   "metadata": {
    "tags": []
   },
   "source": [
    "## Evaluate Model"
   ]
  },
  {
   "cell_type": "code",
   "execution_count": null,
   "id": "342e1cbc-145b-41f3-b124-de125c852373",
   "metadata": {},
   "outputs": [],
   "source": [
    "%%capture\n",
    "best_weights = f\"{base_folder}/darknet/backup/yolov4-tiny_best.weights\"\n",
    "!./darknet detector map $obj_test_data $cfg_file $best_weights -points 0  > $base_folder\"model_files/log_evaluation.txt\""
   ]
  },
  {
   "cell_type": "markdown",
   "id": "505aead7-2c40-46c9-9aa8-c5db7e3f647b",
   "metadata": {},
   "source": [
    "## Convert Model\n",
    "\n",
    "**Note:** need to restart kernel after each conversion i.e., if converting to multiple formats."
   ]
  },
  {
   "cell_type": "code",
   "execution_count": null,
   "id": "673a8b6d-e55b-4875-bfc8-5737007cd041",
   "metadata": {},
   "outputs": [],
   "source": [
    "%cd $base_folder"
   ]
  },
  {
   "cell_type": "code",
   "execution_count": null,
   "id": "398911f9-c5ea-4950-b180-18e83107c12d",
   "metadata": {},
   "outputs": [],
   "source": [
    "convert_darknet_to_tf(f\"{base_folder}model_files/\", framework=\"tflite\", tiny=True)"
   ]
  },
  {
   "cell_type": "code",
   "execution_count": null,
   "id": "6aa140e1-38bc-48f2-988b-68ba91e90dbd",
   "metadata": {},
   "outputs": [],
   "source": []
  }
 ],
 "metadata": {
  "kernelspec": {
   "display_name": "Python 3 (ipykernel)",
   "language": "python",
   "name": "python3"
  },
  "language_info": {
   "codemirror_mode": {
    "name": "ipython",
    "version": 3
   },
   "file_extension": ".py",
   "mimetype": "text/x-python",
   "name": "python",
   "nbconvert_exporter": "python",
   "pygments_lexer": "ipython3",
   "version": "3.8.10"
  }
 },
 "nbformat": 4,
 "nbformat_minor": 5
}
